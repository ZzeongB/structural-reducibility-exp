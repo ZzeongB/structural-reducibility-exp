{
 "cells": [
  {
   "cell_type": "markdown",
   "metadata": {},
   "source": [
    "1. 96개를 다써서 training한다\n",
    "2. 96개의 데이터셋 중 랜덤하게 10개를 뽑아서 각 technique에 대해 optimal tnc score의 평균을 구한다 -> 최종 Dr technique들의 rank 구하기\n",
    "3. 2번을 50번 반복 -> (50개의 rank가 생기겠쥬)\n",
    "4. 50개의 rank에 대해 pairwise하게 rank corrleation 계산 (rank들의 consistency 구하기)\n",
    "5. 2~4번을 반복하는데 이번에는 그 96개로 train한 각 dataset의 optimal score를 바탕으로 점수들을 normalize해서 똑같이 진행\n",
    "6. normalize했을때와 안했을때 유의미한 차이가 생기는지 report"
   ]
  },
  {
   "cell_type": "code",
   "execution_count": 1,
   "metadata": {},
   "outputs": [],
   "source": [
    "# Step 0: Setup constants\n",
    "\n",
    "INPUT_TYPE = [\"dc_5\", \"nc_3\", \"nc_5\", \"nc_10\", \"nc_25\", \"nc_30\", \"nc_50\", \"nc_75\"]\n",
    "OUTPUT_TYPE = [\n",
    "    \"umato_srho_0\",\n",
    "    \"pca_tnc_25\",\n",
    "    \"tsne_pr_0\",\n",
    "    \"umato_tnc_25\",\n",
    "    \"isomap_tnc_25\",\n",
    "    \"lle_pr_0\",\n",
    "    \"isomap_pr_0\",\n",
    "    \"tsne_tnc_25\",\n",
    "    \"umap_pr_0\",\n",
    "    \"umap_tnc_25\",\n",
    "    \"pca_pr_0\",\n",
    "    \"lle_tnc_25\",\n",
    "    \"umato_pr_0\",\n",
    "]\n",
    "SCORE_TYPE = [\n",
    "    \"explained_variance_score\",\n",
    "    \"max_error\",\n",
    "    \"mean_absolute_error\",\n",
    "    \"mean_squared_error\",\n",
    "    \"root_mean_squared_error\",\n",
    "    \"mean_squared_log_error\",\n",
    "    \"root_mean_squared_log_error\",\n",
    "    \"median_absolute_error\",\n",
    "    \"r2_score\",\n",
    "    \"mean_poisson_deviance\",\n",
    "    \"mean_gamma_deviance\",\n",
    "    \"mean_absolute_percentage_error\",\n",
    "    \"d2_absolute_error_score\",\n",
    "    \"d2_pinball_score\",\n",
    "    \"d2_tweedie_score\",\n",
    "]"
   ]
  },
  {
   "cell_type": "code",
   "execution_count": 2,
   "metadata": {},
   "outputs": [],
   "source": [
    "import os\n",
    "\n",
    "import pandas as pd\n",
    "\n",
    "input = pd.read_csv(\"data/input.csv\", index_col=0)\n",
    "label = pd.read_csv(\"data/output.csv\", index_col=0)\n",
    "\n",
    "RAND_SEED = 0\n",
    "RESULT_DIR = \"result/application2/\"\n",
    "\n",
    "MODEL_DIR = \"pretrained_model/\"\n",
    "\n",
    "if not os.path.exists(RESULT_DIR):\n",
    "    os.makedirs(RESULT_DIR)\n",
    "if not os.path.exists(MODEL_DIR):\n",
    "    os.makedirs(MODEL_DIR)"
   ]
  },
  {
   "cell_type": "code",
   "execution_count": 3,
   "metadata": {},
   "outputs": [
    {
     "name": "stdout",
     "output_type": "stream",
     "text": [
      "Seed 0 - idx:  ['breast_tissue' 'ecoli' 'hiva' 'secom' 'fetal_health_classification'\n",
      " 'magic_gamma_telescope' 'spambase' 'cifar10' 'wine' 'pumpkin_seeds']\n",
      "\tScore of model umato_srho_0: 0.8149273309856653\n",
      "\tScore of model pca_tnc_25: 0.9182648601941764\n",
      "\tScore of model tsne_pr_0: 0.7923843702301383\n",
      "\tScore of model umato_tnc_25: 0.9277738513424992\n",
      "\tScore of model isomap_tnc_25: 0.9281607501208782\n",
      "\tScore of model lle_pr_0: 0.7438757816329599\n",
      "\tScore of model isomap_pr_0: 0.8698216893710196\n",
      "\tScore of model tsne_tnc_25: 0.9553808711469174\n",
      "\tScore of model umap_pr_0: 0.6421034961473197\n",
      "\tScore of model umap_tnc_25: 0.9452556381002069\n",
      "\tScore of model pca_pr_0: 0.8726403925567865\n",
      "\tScore of model lle_tnc_25: 0.909860360622406\n",
      "\tScore of model umato_pr_0: 0.7963905140757561\n",
      "                  score\n",
      "tsne_tnc_25    0.955381\n",
      "umap_tnc_25    0.945256\n",
      "isomap_tnc_25  0.928161\n",
      "umato_tnc_25   0.927774\n",
      "pca_tnc_25     0.918265\n",
      "Seed 0 - idx:  ['human_stress_detection' 'mammographic_mass' 'customer_classification'\n",
      " 'imdb' 'cifar10' 'rice_dataset_cammeo_and_osmancik' 'wine_quality'\n",
      " 'statlog_image_segmentation' 'sentiment_labeld_sentences' 'boston']\n",
      "\tScore of model umato_srho_0: 0.7731495879590511\n",
      "\tScore of model pca_tnc_25: 0.8928032474592328\n"
     ]
    }
   ],
   "source": [
    "# Step 2: Select 10 samples from the input data and calculate Mean of Optimal TNC Score\n",
    "import joblib\n",
    "import numpy as np\n",
    "\n",
    "for seed in range(50):\n",
    "    np.random.seed(seed)\n",
    "    idx = np.random.choice(input.index, 10, replace=False)  # Randomly select 86 samples\n",
    "    print(f\"Seed {seed} - idx: \", idx)\n",
    "\n",
    "    score_dict = {}\n",
    "\n",
    "    for t in OUTPUT_TYPE:  # For each Model\n",
    "        score = 0\n",
    "\n",
    "        model = joblib.load(f\"{MODEL_DIR}/{t}.pkl\")\n",
    "        y_pred = model.predict(input.loc[idx])\n",
    "        score += y_pred.mean()\n",
    "\n",
    "        score_dict[t] = score  # store the score in a dictionary\n",
    "        print(f\"\\tScore of model {t}: {score}\")\n",
    "\n",
    "    # Rank scores\n",
    "    score_df = pd.DataFrame(score_dict, index=[\"score\"]).T\n",
    "    score_df = score_df.sort_values(\"score\", ascending=False)\n",
    "    # Save df as JSON\n",
    "    score_df.to_json(f\"{RESULT_DIR}/rand-{seed}.json\")\n",
    "    print(score_df.head())"
   ]
  },
  {
   "cell_type": "code",
   "execution_count": 4,
   "metadata": {},
   "outputs": [
    {
     "name": "stdout",
     "output_type": "stream",
     "text": [
      "              0              1              2              3              4   \\\n",
      "0    tsne_tnc_25    tsne_tnc_25    tsne_tnc_25    tsne_tnc_25    tsne_tnc_25   \n",
      "1    umap_tnc_25    umap_tnc_25    umap_tnc_25    umap_tnc_25    umap_tnc_25   \n",
      "2  isomap_tnc_25  isomap_tnc_25  isomap_tnc_25  isomap_tnc_25  isomap_tnc_25   \n",
      "3   umato_tnc_25   umato_tnc_25   umato_tnc_25   umato_tnc_25   umato_tnc_25   \n",
      "4     pca_tnc_25     pca_tnc_25     pca_tnc_25     pca_tnc_25     pca_tnc_25   \n",
      "\n",
      "              5              6              7              8              9   \\\n",
      "0    tsne_tnc_25    tsne_tnc_25    tsne_tnc_25    tsne_tnc_25    tsne_tnc_25   \n",
      "1    umap_tnc_25    umap_tnc_25    umap_tnc_25    umap_tnc_25    umap_tnc_25   \n",
      "2   umato_tnc_25   umato_tnc_25  isomap_tnc_25  isomap_tnc_25  isomap_tnc_25   \n",
      "3  isomap_tnc_25  isomap_tnc_25   umato_tnc_25   umato_tnc_25   umato_tnc_25   \n",
      "4     pca_tnc_25     pca_tnc_25     pca_tnc_25     pca_tnc_25     pca_tnc_25   \n",
      "\n",
      "   ...             40             41             42             43  \\\n",
      "0  ...    tsne_tnc_25    tsne_tnc_25    tsne_tnc_25    tsne_tnc_25   \n",
      "1  ...    umap_tnc_25    umap_tnc_25    umap_tnc_25    umap_tnc_25   \n",
      "2  ...  isomap_tnc_25  isomap_tnc_25  isomap_tnc_25   umato_tnc_25   \n",
      "3  ...   umato_tnc_25   umato_tnc_25   umato_tnc_25  isomap_tnc_25   \n",
      "4  ...     pca_tnc_25     pca_tnc_25     pca_tnc_25     pca_tnc_25   \n",
      "\n",
      "              44             45             46             47             48  \\\n",
      "0    tsne_tnc_25    tsne_tnc_25    tsne_tnc_25    tsne_tnc_25    tsne_tnc_25   \n",
      "1    umap_tnc_25    umap_tnc_25    umap_tnc_25    umap_tnc_25    umap_tnc_25   \n",
      "2  isomap_tnc_25  isomap_tnc_25  isomap_tnc_25  isomap_tnc_25  isomap_tnc_25   \n",
      "3     pca_tnc_25   umato_tnc_25   umato_tnc_25   umato_tnc_25   umato_tnc_25   \n",
      "4   umato_tnc_25     pca_tnc_25     pca_tnc_25     pca_tnc_25     pca_tnc_25   \n",
      "\n",
      "              49  \n",
      "0    tsne_tnc_25  \n",
      "1    umap_tnc_25  \n",
      "2  isomap_tnc_25  \n",
      "3   umato_tnc_25  \n",
      "4     pca_tnc_25  \n",
      "\n",
      "[5 rows x 50 columns]\n"
     ]
    }
   ],
   "source": [
    "# Step 4: Calculate Rank Correlation between ranks\n",
    "\n",
    "import pandas as pd\n",
    "\n",
    "aggr_df = pd.DataFrame()\n",
    "\n",
    "# Load ranks\n",
    "for seed in range(50):\n",
    "    rank_path = f\"{RESULT_DIR}/rand-{seed}.json\"\n",
    "    score_df = pd.read_json(rank_path)\n",
    "    aggr_df[seed] = score_df.index"
   ]
  },
  {
   "cell_type": "code",
   "execution_count": 9,
   "metadata": {},
   "outputs": [
    {
     "name": "stderr",
     "output_type": "stream",
     "text": [
      "/tmp/ipykernel_655558/3971930512.py:22: FutureWarning: The behavior of DataFrame concatenation with empty or all-NA entries is deprecated. In a future version, this will no longer exclude empty or all-NA columns when determining the result dtypes. To retain the old behavior, exclude the relevant entries before the concat operation.\n",
      "  results_df = pd.concat([results_df, temp_df], ignore_index=True)\n"
     ]
    },
    {
     "name": "stdout",
     "output_type": "stream",
     "text": [
      "   Spearman correlation  Kendall tau rank1 rank2\n",
      "0              0.714286     0.564103     1     0\n",
      "1              0.824176     0.641026     2     0\n",
      "2              0.978022     0.923077     2     1\n",
      "3              0.824176     0.641026     3     0\n",
      "4              0.978022     0.923077     3     1\n"
     ]
    }
   ],
   "source": [
    "import pandas as pd\n",
    "from scipy import stats\n",
    "\n",
    "# Create an empty DataFrame to store the results\n",
    "results_df = pd.DataFrame(\n",
    "    columns=[\"Spearman correlation\", \"Kendall tau\", \"rank1\", \"rank2\"]\n",
    ")\n",
    "\n",
    "for i in range(50):\n",
    "    for j in range(i):\n",
    "        rankings1 = aggr_df[i]\n",
    "        rankings2 = aggr_df[j]\n",
    "\n",
    "        # Calculate Spearman rank-order correlation coefficient\n",
    "        spearman_corr, _ = stats.spearmanr(rankings1, rankings2)\n",
    "\n",
    "        # Calculate Kendall's tau\n",
    "        kendall_tau, _ = stats.kendalltau(rankings1, rankings2)\n",
    "\n",
    "        # Create a DataFrame with the results\n",
    "        temp_df = pd.DataFrame(\n",
    "            {\n",
    "                \"Spearman correlation\": [spearman_corr],\n",
    "                \"Kendall tau\": [kendall_tau],\n",
    "                \"rank1\": [i],\n",
    "                \"rank2\": [j],\n",
    "            }\n",
    "        )\n",
    "\n",
    "        # Append the results to the DataFrame\n",
    "        results_df = pd.concat([results_df, temp_df], ignore_index=True)\n",
    "\n",
    "# Print the results DataFrame\n",
    "print(results_df.head())\n",
    "\n",
    "results_df.to_csv(\"result/app2_rank-corr.csv\")"
   ]
  },
  {
   "cell_type": "code",
   "execution_count": null,
   "metadata": {},
   "outputs": [],
   "source": [
    "# Step 5: Normalize the scores with original TNC optimal score\n"
   ]
  }
 ],
 "metadata": {
  "kernelspec": {
   "display_name": "struct_complex",
   "language": "python",
   "name": "python3"
  },
  "language_info": {
   "codemirror_mode": {
    "name": "ipython",
    "version": 3
   },
   "file_extension": ".py",
   "mimetype": "text/x-python",
   "name": "python",
   "nbconvert_exporter": "python",
   "pygments_lexer": "ipython3",
   "version": "3.9.18"
  }
 },
 "nbformat": 4,
 "nbformat_minor": 2
}
